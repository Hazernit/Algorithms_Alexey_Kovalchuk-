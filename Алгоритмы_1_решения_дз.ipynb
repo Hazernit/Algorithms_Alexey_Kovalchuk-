{
  "cells": [
    {
      "cell_type": "markdown",
      "metadata": {
        "id": "view-in-github",
        "colab_type": "text"
      },
      "source": [
        "<a href=\"https://colab.research.google.com/github/Hazernit/Algorithms_Alexey_Kovalchuk-/blob/master/%D0%90%D0%BB%D0%B3%D0%BE%D1%80%D0%B8%D1%82%D0%BC%D1%8B_1_%D1%80%D0%B5%D1%88%D0%B5%D0%BD%D0%B8%D1%8F_%D0%B4%D0%B7.ipynb\" target=\"_parent\"><img src=\"https://colab.research.google.com/assets/colab-badge.svg\" alt=\"Open In Colab\"/></a>"
      ]
    },
    {
      "cell_type": "markdown",
      "id": "8b8ec4e1",
      "metadata": {
        "id": "8b8ec4e1"
      },
      "source": [
        "## Задача A. Наименьший положительный."
      ]
    },
    {
      "cell_type": "code",
      "execution_count": null,
      "id": "658d95ea",
      "metadata": {
        "id": "658d95ea",
        "outputId": "b29783a7-af49-458c-93d7-ef0a402e1b36"
      },
      "outputs": [
        {
          "name": "stdout",
          "output_type": "stream",
          "text": [
            "5 -4 3 -2 1\n",
            "1\n"
          ]
        }
      ],
      "source": [
        "a = [int(x) for x in input().split()]\n",
        "mpos = 1000\n",
        "for x in a:\n",
        "    if 0 < x < mpos:\n",
        "        mpos = x\n",
        "print(mpos)"
      ]
    },
    {
      "cell_type": "markdown",
      "id": "4c9e4cb4",
      "metadata": {
        "id": "4c9e4cb4"
      },
      "source": [
        "## Задача B. Приближенный двоичный поиск."
      ]
    },
    {
      "cell_type": "code",
      "execution_count": null,
      "id": "0f3e1348",
      "metadata": {
        "id": "0f3e1348",
        "outputId": "4bf0d7db-204f-4d60-e9d7-9d95cb826c2b"
      },
      "outputs": [
        {
          "name": "stdout",
          "output_type": "stream",
          "text": [
            "5 5\n",
            "1 3 5 7 9\n",
            "2 4 8 1 6\n",
            "1\n",
            "3\n",
            "7\n",
            "1\n",
            "5\n"
          ]
        }
      ],
      "source": [
        "def lbs(a, x):\n",
        "    l = -1\n",
        "    r = len(a) - 1\n",
        "    while l + 1 != r:\n",
        "        c = (l + r) // 2\n",
        "        if a[c] < x:\n",
        "            l = c\n",
        "        else:\n",
        "            r = c\n",
        "    return r\n",
        "def rbs(a, x):\n",
        "    l = 0\n",
        "    r = len(a)\n",
        "    while l + 1 != r:\n",
        "        c = (l + r) // 2\n",
        "        if a[c] > x:\n",
        "            r = c\n",
        "        else:\n",
        "            l = c\n",
        "    return l\n",
        "\n",
        "N, K = [int(x) for x in input().split()]\n",
        "a = [int(x) for x in input().split()]\n",
        "b = [int(x) for x in input().split()]\n",
        "\n",
        "for x in b:\n",
        "    indl, indr = lbs(a, x), rbs(a, x)\n",
        "    varl, varr = a[indl], a[indr]\n",
        "    if varl - x < x - varr:\n",
        "        print(varl)\n",
        "    else:\n",
        "        print(varr)"
      ]
    },
    {
      "cell_type": "markdown",
      "id": "f0d0332c",
      "metadata": {
        "id": "f0d0332c"
      },
      "source": [
        "## Задача C. Сложная жизнь коров."
      ]
    },
    {
      "cell_type": "code",
      "execution_count": null,
      "id": "ecaaa5ce",
      "metadata": {
        "id": "ecaaa5ce",
        "outputId": "d1360459-dc83-4084-e753-b191ee2ef5b1"
      },
      "outputs": [
        {
          "name": "stdout",
          "output_type": "stream",
          "text": [
            "6 3\n",
            "2 5 7 11 15 20\n",
            "9\n"
          ]
        }
      ],
      "source": [
        "def f(d, coords, N, K):\n",
        "    '''\n",
        "    :param d: желаемое растояние\n",
        "    :param coords: список координат стойл\n",
        "    :param N: количество стойл\n",
        "    :param K: количество коров\n",
        "    :return: True / False\n",
        "    '''\n",
        "    prev = coords[0]\n",
        "    count = 1\n",
        "    for i in range(1, N):\n",
        "        if coords[i] - prev >= d:\n",
        "            count += 1\n",
        "            prev = coords[i]\n",
        "    return count >= K\n",
        "\n",
        "N, K = [int(x) for x in input().split()]\n",
        "coords = [int(x) for x in input().split()]\n",
        "l = 1\n",
        "r = coords[-1] - coords[0] + 1\n",
        "\n",
        "while l + 1 != r:\n",
        "    c = (l + r) // 2\n",
        "    if f(c, coords, N, K):\n",
        "        l = c\n",
        "    else:\n",
        "        r = c\n",
        "print(l)"
      ]
    },
    {
      "cell_type": "markdown",
      "id": "c439bdc8",
      "metadata": {
        "id": "c439bdc8"
      },
      "source": [
        "## Задача D. Количество отрицательных в отсортиро- ванной матрице."
      ]
    },
    {
      "cell_type": "code",
      "execution_count": null,
      "id": "804803f6",
      "metadata": {
        "id": "804803f6",
        "outputId": "61b20636-20a3-40bf-ffb6-3e0d35abbcea"
      },
      "outputs": [
        {
          "name": "stdout",
          "output_type": "stream",
          "text": [
            "4 4\n",
            "4 3 2 -1\n",
            "3 2 1 -1\n",
            "1 1 -1 -2\n",
            "-1 -1 -2 -3\n",
            "8\n"
          ]
        }
      ],
      "source": [
        "def bs(nums):\n",
        "    l = -1\n",
        "    r = len(nums) - 1\n",
        "    while l + 1 != r:\n",
        "        c = (l + r) // 2\n",
        "        if nums[c] > -1:\n",
        "            l = c\n",
        "        else:\n",
        "            r = c\n",
        "    return r\n",
        "n, m = [int(x) for x in input().split()]\n",
        "grid = [[int(x) for x in input().split()] for _ in range(n)]\n",
        "n_neg = 0\n",
        "for nums in grid:\n",
        "    if nums[-1] < 0:\n",
        "        n_neg += m - bs(nums)\n",
        "print(nneg)"
      ]
    },
    {
      "cell_type": "markdown",
      "id": "f550bb5d",
      "metadata": {
        "id": "f550bb5d"
      },
      "source": [
        "## Задача E. Сколько колонок нужно убрать (полный перебор)."
      ]
    },
    {
      "cell_type": "code",
      "execution_count": null,
      "id": "b6fbabeb",
      "metadata": {
        "id": "b6fbabeb",
        "outputId": "3d504d4a-ea8c-4e4b-bfc8-677033d04c67"
      },
      "outputs": [
        {
          "name": "stdout",
          "output_type": "stream",
          "text": [
            "3\n",
            "cba\n",
            "daf\n",
            "ghi\n",
            "1\n"
          ]
        }
      ],
      "source": [
        "n = int(input())\n",
        "strs = [input() for _ in range(n)]\n",
        "m = len(strs[0])\n",
        "count = 0\n",
        "for j in range(m):\n",
        "    for i in range(n - 1):\n",
        "        if strs[i][j] > strs[i + 1][j]:\n",
        "            count += 1\n",
        "            break\n",
        "print(count)"
      ]
    },
    {
      "cell_type": "code",
      "execution_count": null,
      "id": "66c3112d",
      "metadata": {
        "id": "66c3112d"
      },
      "outputs": [],
      "source": []
    }
  ],
  "metadata": {
    "kernelspec": {
      "display_name": "Python 3 (ipykernel)",
      "language": "python",
      "name": "python3"
    },
    "language_info": {
      "codemirror_mode": {
        "name": "ipython",
        "version": 3
      },
      "file_extension": ".py",
      "mimetype": "text/x-python",
      "name": "python",
      "nbconvert_exporter": "python",
      "pygments_lexer": "ipython3",
      "version": "3.11.4"
    },
    "colab": {
      "provenance": [],
      "include_colab_link": true
    }
  },
  "nbformat": 4,
  "nbformat_minor": 5
}